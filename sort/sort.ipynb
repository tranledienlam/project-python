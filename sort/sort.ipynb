{
 "cells": [
  {
   "cell_type": "code",
   "execution_count": 3,
   "metadata": {},
   "outputs": [],
   "source": [
    "def sort_asc_2_els(a: list) -> list:\n",
    "    if len(a) == 2:\n",
    "        if a[0] < a[1]:\n",
    "            return a\n",
    "        else:\n",
    "            return [a[1],a[0]]\n",
    "    else: \n",
    "        return None"
   ]
  },
  {
   "cell_type": "code",
   "execution_count": 4,
   "metadata": {},
   "outputs": [
    {
     "name": "stdout",
     "output_type": "stream",
     "text": [
      "[3, 4]\n"
     ]
    }
   ],
   "source": [
    "print(sort_asc_2_els([4,3]))"
   ]
  },
  {
   "cell_type": "code",
   "execution_count": 9,
   "metadata": {},
   "outputs": [],
   "source": [
    "def check(a : list) -> bool:\n",
    "    if a[0] < a[1] and a[1] < a[2]:\n",
    "        return True\n",
    "    else:\n",
    "        return False\n",
    "    \n",
    "def sort_asc_3_els(a : list) -> list:\n",
    "    if a[0] < a[1]:\n",
    "        if a[1] < a[2]:\n",
    "            a = [a[0],a[1],a[2]]\n",
    "        else:\n",
    "            a = [a[0],a[2],a[1]]\n",
    "    else:\n",
    "        a = [a[1],a[0],a[2]]\n",
    "    if check(a) == True:\n",
    "        return a\n",
    "    else:\n",
    "        return sort_asc_3_els(a)\n"
   ]
  },
  {
   "cell_type": "code",
   "execution_count": 10,
   "metadata": {},
   "outputs": [
    {
     "name": "stdout",
     "output_type": "stream",
     "text": [
      "[3, 6, 9]\n"
     ]
    }
   ],
   "source": [
    "\n",
    "# print(sort_3_els([3,9,6]))\n",
    "# print(sort_3_els([6,9,3]))\n",
    "print(sort_asc_3_els([9,6,3]))"
   ]
  },
  {
   "cell_type": "markdown",
   "metadata": {},
   "source": [
    "## Bubble sort\n",
    "compare two elements, times (n-1)!, mỗi vòng so sánh, sẽ giảm length-1"
   ]
  },
  {
   "cell_type": "code",
   "execution_count": 24,
   "metadata": {},
   "outputs": [
    {
     "name": "stdout",
     "output_type": "stream",
     "text": [
      "input: [44 47 64 67 67  9 83 21 36 87]\n",
      "[44 47 64 67 67  9 83 21 36 87]\n",
      "[44 47 64 67  9 67 21 36 83 87]\n",
      "[44 47 64  9 67 21 36 67 83 87]\n",
      "[44 47  9 64 21 36 67 67 83 87]\n",
      "[44  9 47 21 36 64 67 67 83 87]\n",
      "[ 9 44 21 36 47 64 67 67 83 87]\n",
      "[ 9 21 36 44 47 64 67 67 83 87]\n",
      "counts: 7\n",
      "output: [ 9 21 36 44 47 64 67 67 83 87]\n"
     ]
    }
   ],
   "source": [
    "import numpy as np\n",
    "\n",
    "np.random.seed(0)\n",
    "\n",
    "def sort_bubble_asc(a: list, count: int = 1) -> list:\n",
    "    endPoint = len(a)-1\n",
    "    count = 0\n",
    "    while endPoint > 0:\n",
    "        count +=1\n",
    "        swap = False\n",
    "        for i in range(0,endPoint):\n",
    "            if a[i] > a[i+1]:\n",
    "                a[i],a[i+1] = a[i+1],a[i]\n",
    "                swap = True\n",
    "        if swap == False:\n",
    "            break\n",
    "        endPoint -=1\n",
    "    print(f'counts: {count}')\n",
    "    return a\n",
    "    \n",
    "a = np.random.randint(0,100,10)\n",
    "print(f'input: {a}')\n",
    "print(f'output: {sort_bubble_asc(a)}')\n",
    "# ví dụ: 4 cặp, mảng có 5 els.4 lần / vòng lặp. 4^2. N địa diện cho số phần tử của mảng. (N-1)^2. nói N^2. N^0\n",
    "\n"
   ]
  },
  {
   "cell_type": "markdown",
   "metadata": {},
   "source": [
    "#### func sort_bubble(array,[asc=True])"
   ]
  },
  {
   "cell_type": "code",
   "execution_count": 26,
   "metadata": {},
   "outputs": [
    {
     "name": "stdout",
     "output_type": "stream",
     "text": [
      "input: [44 47 64 67 67  9 83 21 36 87]\n",
      "[47 64 67 67 44 83 21 36 87  9]\n",
      "[64 67 67 47 83 44 36 87 21  9]\n",
      "[67 67 64 83 47 44 87 36 21  9]\n",
      "[67 67 83 64 47 87 44 36 21  9]\n",
      "[67 83 67 64 87 47 44 36 21  9]\n",
      "[83 67 67 87 64 47 44 36 21  9]\n",
      "[83 67 87 67 64 47 44 36 21  9]\n",
      "[83 87 67 67 64 47 44 36 21  9]\n",
      "[87 83 67 67 64 47 44 36 21  9]\n",
      "counts: 9\n",
      "output: [87 83 67 67 64 47 44 36 21  9]\n"
     ]
    }
   ],
   "source": [
    "import numpy as np\n",
    "\n",
    "np.random.seed(0)\n",
    "\n",
    "def sort_bubble(a: list, asc : bool = True) -> list:\n",
    "    endPoint = len(a)-1\n",
    "    count = 0\n",
    "    while endPoint > 0:\n",
    "        count +=1\n",
    "        swap = False\n",
    "        for i in range(0,endPoint):\n",
    "            if a[i] < a[i+1]:\n",
    "                a[i],a[i+1] = a[i+1],a[i]\n",
    "                swap = True\n",
    "        if swap == False:\n",
    "            break\n",
    "        endPoint -=1\n",
    "    print(f'counts: {count}')\n",
    "    return a\n",
    "    \n",
    "a = np.random.randint(0,100,10)\n",
    "print(f'input: {a}')\n",
    "print(f'output: {sort_bubble(a, asc=False)}')\n"
   ]
  },
  {
   "cell_type": "code",
   "execution_count": 14,
   "metadata": {},
   "outputs": [
    {
     "name": "stdout",
     "output_type": "stream",
     "text": [
      "[1, 3]\n"
     ]
    }
   ],
   "source": [
    "b = [3,1]\n",
    "b[0],b[1] = b[1],b[0]\n",
    "print(b)"
   ]
  },
  {
   "cell_type": "markdown",
   "metadata": {},
   "source": [
    "## SELECTION SORT\n",
    "find min, move to first position"
   ]
  },
  {
   "cell_type": "code",
   "execution_count": 136,
   "metadata": {},
   "outputs": [
    {
     "name": "stdout",
     "output_type": "stream",
     "text": [
      "input: [44 47 64 67 67  9 83 21 36 87 70 88 88]\n",
      "count: 12\n",
      "output: [ 9 21 36 44 47 64 67 67 70 83 87 88 88]\n"
     ]
    }
   ],
   "source": [
    "import numpy as np\n",
    "np.random.seed(0)\n",
    "\n",
    "def sort_selection_asc(a: list, position: int = 0) -> list:\n",
    "    length = len(a)\n",
    "    min = a[position]\n",
    "    i_min = position\n",
    "    \n",
    "    for i in range(position,length):\n",
    "        if a[i] < min:\n",
    "            min = a[i]\n",
    "            i_min = i\n",
    "    a[i_min] = a[position]\n",
    "    a[position] = min\n",
    "    \n",
    "    if position < length-2:\n",
    "        return sort_selection_asc(a, position+1)\n",
    "    else:\n",
    "        print(f'count: {position+1}')\n",
    "        return a\n",
    "\n",
    "    \n",
    "a = np.random.randint(0,100,13)\n",
    "print(f'input: {a}')\n",
    "print(f'output: {sort_selection_asc(a)}')\n",
    "     "
   ]
  },
  {
   "cell_type": "markdown",
   "metadata": {},
   "source": [
    "## INSERTION SORT\n",
    "select current ele, compare with els that is before, then insert"
   ]
  },
  {
   "cell_type": "code",
   "execution_count": 137,
   "metadata": {},
   "outputs": [
    {
     "name": "stdout",
     "output_type": "stream",
     "text": [
      "input: [44 47 64 67 67  9 83 21 36 87 70 88 88 12 58 65 39 87 46 88]\n",
      "count: 19\n",
      "output: [ 9 12 21 36 39 44 46 47 58 64 65 67 67 70 83 87 87 88 88 88]\n"
     ]
    }
   ],
   "source": [
    "import numpy as np\n",
    "np.random.seed(0)\n",
    "\n",
    "def sort_insert_asc(a: list, position: int = 0) -> list:\n",
    "    check = a[position]\n",
    "    for i in range(position-1,-1,-1):\n",
    "        if check < a[i]:\n",
    "            a[i+1] = a[i]\n",
    "            a[i] = check\n",
    "    if position < len(a)-1:\n",
    "        return sort_insert_asc(a, position+1)\n",
    "    else:\n",
    "        print(f'count: {position}')\n",
    "        return a\n",
    "a = np.random.randint(0,100,20)\n",
    "# a = [1,3,7,2,3]\n",
    "print(f'input: {a}')\n",
    "print(f'output: {sort_insert_asc(a)}')"
   ]
  },
  {
   "cell_type": "markdown",
   "metadata": {},
   "source": [
    "## MERGE SORT"
   ]
  },
  {
   "cell_type": "markdown",
   "metadata": {},
   "source": [
    "\n",
    "[mô phỏng code](https://docs.google.com/presentation/d/1uNi4BuD9KNc2awQR-fgeOg1Uc8Z-pm244eO_7TKh_DA/edit?usp=sharing)"
   ]
  },
  {
   "cell_type": "code",
   "execution_count": 12,
   "metadata": {},
   "outputs": [
    {
     "name": "stdout",
     "output_type": "stream",
     "text": [
      "input: [44, 47, 64, 3, 5, 1, 5, 3]\n",
      "output: [1, 3, 3, 5, 5, 44, 47, 64]\n"
     ]
    }
   ],
   "source": [
    "def sort_merge_asc(a : list) -> None:\n",
    "    if len(a) <= 1:\n",
    "        return a\n",
    "    \n",
    "    i_merge = len(a) // 2\n",
    "    left_a = a[:i_merge]\n",
    "    right_a = a[i_merge:]\n",
    "    \n",
    "    left_a = sort_merge_asc(left_a)\n",
    "    right_a = sort_merge_asc(right_a)\n",
    "\n",
    "    return merge_els(left_a, right_a)\n",
    "\n",
    "\n",
    "def merge_els(left : list, right: list):\n",
    "    result = []\n",
    "    i = 0\n",
    "    j = 0\n",
    "    while i < len(left) and j < len(right):\n",
    "        if left[i] <= right[j]:\n",
    "            result.append(left[i])\n",
    "            i+=1\n",
    "        else:\n",
    "            result.append(right[j])\n",
    "            j +=1\n",
    "    while i < len(left):\n",
    "        result.append(left[i])\n",
    "        i+=1\n",
    "    while j < len(right):\n",
    "        result.append(right[j])\n",
    "        j+=1\n",
    "    return result\n",
    "\n",
    "a = [44, 47, 64,3,5,1,5,3]\n",
    "print(f'input: {a}')\n",
    "print(f'output: {sort_merge_asc(a)}')"
   ]
  },
  {
   "cell_type": "code",
   "execution_count": 8,
   "metadata": {},
   "outputs": [
    {
     "name": "stdout",
     "output_type": "stream",
     "text": [
      "[3, 4, 5, 6, 7, 9, 10, 15]\n"
     ]
    }
   ],
   "source": [
    "def merge_2_array(a, b):\n",
    "    result = []\n",
    "    i = 0\n",
    "    j = 0\n",
    "    while i < len(a) and j < len(b):\n",
    "        if a[i] <= b[j]:\n",
    "            result.append(a[i])\n",
    "            i+=1\n",
    "        else:\n",
    "            result.append(b[j])\n",
    "            j +=1\n",
    "    while i < len(a):\n",
    "        result.append(a[i])\n",
    "        i+=1\n",
    "    while j < len(b):\n",
    "        result.append(b[j])\n",
    "        j+=1\n",
    "    return result\n",
    "a = [3,5,9]\n",
    "b = [4,6,7,10,15]\n",
    "print(merge_2_array(a,b))"
   ]
  },
  {
   "cell_type": "markdown",
   "metadata": {},
   "source": [
    "## QUICK SORT"
   ]
  },
  {
   "cell_type": "code",
   "execution_count": 41,
   "metadata": {},
   "outputs": [
    {
     "name": "stdout",
     "output_type": "stream",
     "text": [
      "input: [44, 4, 0, 3, 3, 39, 9, 19, 21, 47]\n",
      "count: \n",
      "[44, 4, 0, 3, 3, 39, 9, 19, 21] - [47] - []\n",
      "[4, 0, 3, 3, 9, 19] - [21] - [44, 39]\n",
      "[4, 0, 3, 3, 9] - [19] - []\n",
      "[4, 0, 3, 3] - [9] - []\n",
      "[0] - [3, 3] - [4]\n",
      "[] - [39] - [44]\n",
      "output: [0, 3, 3, 4, 9, 19, 21, 39, 44, 47]\n"
     ]
    }
   ],
   "source": [
    "def sort_quick(A: list):\n",
    "    if len(A) <= 1:\n",
    "        return A\n",
    "    \n",
    "    pivot = A[len(A)-1]\n",
    "    left = []\n",
    "    right = []\n",
    "    middle = []\n",
    "    \n",
    "    for item in A:\n",
    "        if item < pivot:\n",
    "            left.append(item)\n",
    "        elif item == pivot:\n",
    "            middle.append(item)\n",
    "        else:\n",
    "            right.append(item)\n",
    "    print(f'{left} - {middle} - {right}')\n",
    "    A = sort_quick(left) + middle + sort_quick(right)\n",
    "    return A\n",
    "\n",
    "arr = [44, 4,  0,  3,  3, 39,  9 ,19,21,47]\n",
    "print(f'input: {arr}')\n",
    "print(f'count: ')\n",
    "print(f'output: {sort_quick(arr)}')"
   ]
  },
  {
   "cell_type": "markdown",
   "metadata": {},
   "source": [
    "## Heap sort\n",
    "\n",
    "- giống binary search tree. nhưng thực chất là 1 array\n",
    "- số nút có lá: i = (n-2)//2 với n = len(arr). nếu n lẻ => nút cuối có 2 lá\n",
    "- nút con / lá: 2i+ 1, 2i+2\n",
    "\n",
    "[Hướng dẫn](https://www.youtube.com/watch?v=EVEssrDhfCI)\n",
    "\n",
    "![Image](https://scontent.fsgn2-6.fna.fbcdn.net/v/t39.30808-6/355677434_5939937556112664_6906267943053742993_n.jpg?_nc_cat=110&cb=99be929b-3346023f&ccb=1-7&_nc_sid=0debeb&_nc_ohc=Riylxmv-W9oAX9q458A&_nc_ht=scontent.fsgn2-6.fna&oh=00_AfBhE9Q_q0l8qi_ut0vFqznCjrXiMivcM3XZuaO2513iPA&oe=649A6C03)"
   ]
  },
  {
   "cell_type": "code",
   "execution_count": 73,
   "metadata": {},
   "outputs": [
    {
     "data": {
      "text/plain": [
       "[1, 9, 10, 10, 12, 27, 28, 28, 31, 41, 41, 43, 48, 54, 58, 60, 63, 65, 96, 97]"
      ]
     },
     "execution_count": 73,
     "metadata": {},
     "output_type": "execute_result"
    }
   ],
   "source": [
    "import numpy as np\n",
    "\n",
    "def swap(arr : list, i : int = 0):\n",
    "    n = len(arr)\n",
    "    j = (n-2)//2\n",
    "    mod = n % 2\n",
    "    # loop from i to j (node có lá)\n",
    "    while i  <= j:\n",
    "        # check node có 1 lá hay 2 lá. (mod == 0 => 1 lá)\n",
    "        # swap if node < lá\n",
    "        if i == j and mod == 0:\n",
    "            if arr[i] > arr[2*i+1]:\n",
    "                arr[2*i+1], arr[i] = arr[i], arr[2*i+1]\n",
    "        else:\n",
    "            if arr[i] > arr[2*i+1] and arr[i] > arr[2*i+2]:\n",
    "                if arr[2*i+1] <= arr[2*i+2]:\n",
    "                    arr[2*i+1], arr[i] = arr[i], arr[2*i+1]\n",
    "                elif arr[2*i+1] > arr[2*i+2]:\n",
    "                    arr[2*i+2], arr[i] = arr[i], arr[2*i+2]\n",
    "            elif arr[i] > arr[2*i+1]:\n",
    "                arr[2*i+1], arr[i] = arr[i], arr[2*i+1]\n",
    "            elif arr[i] > arr[2*i+2]:\n",
    "                arr[2*i+2], arr[i] = arr[i], arr[2*i+2]\n",
    "        i += 1\n",
    "    return arr\n",
    "\n",
    "def sort_heap(arr : list, arr_new : list = []) -> list:\n",
    "    n = len(arr)\n",
    "    \n",
    "    # check els 2 trở lên, sẽ swap\n",
    "    if n <= 1:\n",
    "        arr_new.append(arr[0])\n",
    "        return arr_new\n",
    "\n",
    "    # swap from i -> 0\n",
    "    i = (n-2)//2\n",
    "    while i >= 0:\n",
    "        swap(arr, i)\n",
    "        i -= 1\n",
    "        \n",
    "    # swap arr[0] <=> arr[n-1]\n",
    "    arr[0], arr[n-1] = arr[n-1], arr[0]\n",
    "    # print(f'swaped end: {arr}')\n",
    "    \n",
    "    # insert min into new array, continue sort_heap lại sau khi cắt array\n",
    "    arr_new.append(arr[-1])\n",
    "    return sort_heap(arr[:-1],arr_new)\n",
    "    \n",
    "\n",
    "# np.random.seed(4)\n",
    "arr = np.random.randint(0,100,20)\n",
    "sort_heap(arr)"
   ]
  },
  {
   "cell_type": "code",
   "execution_count": null,
   "metadata": {},
   "outputs": [],
   "source": []
  }
 ],
 "metadata": {
  "kernelspec": {
   "display_name": "Python 3.9.2 64-bit",
   "language": "python",
   "name": "python3"
  },
  "language_info": {
   "codemirror_mode": {
    "name": "ipython",
    "version": 3
   },
   "file_extension": ".py",
   "mimetype": "text/x-python",
   "name": "python",
   "nbconvert_exporter": "python",
   "pygments_lexer": "ipython3",
   "version": "3.9.2"
  },
  "orig_nbformat": 4,
  "vscode": {
   "interpreter": {
    "hash": "916dbcbb3f70747c44a77c7bcd40155683ae19c65e1c03b4aa3499c5328201f1"
   }
  }
 },
 "nbformat": 4,
 "nbformat_minor": 2
}
