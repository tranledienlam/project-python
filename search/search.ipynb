{
 "cells": [
  {
   "cell_type": "markdown",
   "metadata": {},
   "source": [
    "# Binary Search Tree\n",
    "[visualization](https://www.cs.usfca.edu/~galles/visualization/BST.html)"
   ]
  },
  {
   "cell_type": "code",
   "execution_count": 20,
   "metadata": {},
   "outputs": [
    {
     "name": "stdout",
     "output_type": "stream",
     "text": [
      "[6, 4, 7, 5, 9, 1]\n"
     ]
    }
   ],
   "source": [
    "import numpy as np\n",
    "\n",
    "class TreeNode():\n",
    "    def __init__(self, node = None) -> None:\n",
    "        self.node = node\n",
    "        self.left = None\n",
    "        self.right = None\n",
    "\n",
    "def insert_node(root, node):\n",
    "    if root is None:\n",
    "        root = TreeNode(node)\n",
    "    else:\n",
    "        if node < root.node:\n",
    "            if root.left is None:\n",
    "                root.left = TreeNode(node)\n",
    "            else:\n",
    "                insert_node(root.left, node)\n",
    "        elif node >= root.node:\n",
    "            if root.right is None:\n",
    "                root.right = TreeNode(node)\n",
    "            else:\n",
    "                insert_node(root.right, node)\n",
    "        else:\n",
    "            print('not no')\n",
    "    return root\n",
    "\n",
    "np.random.seed(0)\n",
    "arr =  np.random.randint(0,100,30)\n",
    "root = None\n",
    "arr =  [6,4,7,5,9,1]\n",
    "\n",
    "for item in arr:\n",
    "    root = insert_node(root, item)\n",
    "print(arr)\n"
   ]
  },
  {
   "cell_type": "code",
   "execution_count": 21,
   "metadata": {},
   "outputs": [
    {
     "name": "stdout",
     "output_type": "stream",
     "text": [
      "6\n",
      "7\n",
      "9\n",
      "[2]\n"
     ]
    }
   ],
   "source": [
    "def search_treenode(root : object, value: int, index : int = 0, indexes : list = []) -> list:\n",
    "    print(root.node)\n",
    "    if value == root.node:\n",
    "        indexes.append(index)\n",
    "        index += 1\n",
    "        if root.right == None:\n",
    "            pass\n",
    "        else:\n",
    "            return search_treenode(root.right, value, index, indexes)\n",
    "        \n",
    "    elif value > root.node:\n",
    "        if root.right == None:\n",
    "            print(f'không tìm thấy {value}')\n",
    "        else:\n",
    "            index += 1\n",
    "            return search_treenode(root.right, value, index, indexes)\n",
    "    elif value < root.node:\n",
    "        if root.left == None:\n",
    "            print(f'Không tìm thấy {value}')\n",
    "        else:\n",
    "            index += 1\n",
    "            return search_treenode(root.left, value, index, indexes)\n",
    "    return indexes\n",
    "\n",
    "print(search_treenode(root, 9))"
   ]
  },
  {
   "cell_type": "markdown",
   "metadata": {},
   "source": [
    "![Image](https://scontent.fsgn2-7.fna.fbcdn.net/v/t39.30808-6/353853966_5911501128956307_8879917118678920094_n.jpg?_nc_cat=100&cb=99be929b-3346023f&ccb=1-7&_nc_sid=0debeb&_nc_ohc=5oaQPa2hVysAX85MUNR&_nc_ht=scontent.fsgn2-7.fna&oh=00_AfAjtHq3aNmE4UjnKtTLfx_osKpnKG6L_nQ93-RsdIFpRA&oe=648EDC77)"
   ]
  },
  {
   "cell_type": "code",
   "execution_count": 79,
   "metadata": {},
   "outputs": [
    {
     "data": {
      "text/plain": [
       "<__main__.TreeNode at 0x7ff068ab9d00>"
      ]
     },
     "execution_count": 79,
     "metadata": {},
     "output_type": "execute_result"
    }
   ],
   "source": [
    "def delete_treenode(root : object, value: int):\n",
    "    pass"
   ]
  },
  {
   "cell_type": "markdown",
   "metadata": {},
   "source": [
    "# B-Tree Search\n",
    "[visualization](https://www.cs.usfca.edu/~galles/visualization/BTree.html)"
   ]
  },
  {
   "cell_type": "code",
   "execution_count": 42,
   "metadata": {},
   "outputs": [
    {
     "name": "stdout",
     "output_type": "stream",
     "text": [
      "Số 3 không tồn tại trong cây B.\n",
      "[3]\n"
     ]
    }
   ],
   "source": [
    "class BTreeNode:\n",
    "    def __init__(self, leaf=False):\n",
    "        self.leaf = leaf\n",
    "        self.keys = []\n",
    "        self.child = []\n",
    "\n",
    "def search_btree(node, value):\n",
    "    i = 0\n",
    "    while i < len(node.keys) and value > node.keys[i]:\n",
    "        i += 1\n",
    "    if i < len(node.keys) and value == node.keys[i]:\n",
    "        return True\n",
    "    elif node.leaf:\n",
    "        return False\n",
    "    else:\n",
    "        return search_btree(node.child[i], value)\n",
    "\n",
    "# Hàm chính\n",
    "def main():\n",
    "    # Xây dựng cây B từ mảng\n",
    "    arr = [4, 3, 6, 1, 6, 3]\n",
    "    root = BTreeNode(leaf=True)\n",
    "    for value in arr:\n",
    "        insert_btree(root, value)\n",
    "    \n",
    "    # Tìm kiếm số 1 trong cây B\n",
    "    if search_btree(root, 4):\n",
    "        print(\"Số 3 được tìm thấy trong cây B.\")\n",
    "    else:\n",
    "        print(\"Số 3 không tồn tại trong cây B.\")\n",
    "    print(root.keys)\n",
    "# Hàm chèn giá trị vào cây B\n",
    "def insert_btree(node, value):\n",
    "    if len(node.keys) < 2 * t - 1:\n",
    "        insert_non_full(node, value)\n",
    "    else:\n",
    "        new_node = BTreeNode()\n",
    "        new_node.child.append(node)\n",
    "        split_child(new_node, 0, node)\n",
    "        insert_non_full(new_node, value)\n",
    "        root = new_node\n",
    "\n",
    "# Hàm chèn giá trị vào nút không đầy\n",
    "def insert_non_full(node, value):\n",
    "    i = len(node.keys) - 1\n",
    "    if node.leaf:\n",
    "        node.keys.append(None)\n",
    "        while i >= 0 and value < node.keys[i]:\n",
    "            node.keys[i + 1] = node.keys[i]\n",
    "            i -= 1\n",
    "        node.keys[i + 1] = value\n",
    "    else:\n",
    "        while i >= 0 and value < node.keys[i]:\n",
    "            i -= 1\n",
    "        i += 1\n",
    "        if len(node.child[i].keys) == 2 * t - 1:\n",
    "            split_child(node, i, node.child[i])\n",
    "            if value > node.keys[i]:\n",
    "                i += 1\n",
    "        insert_non_full(node.child[i], value)\n",
    "\n",
    "# Hàm phân chia con\n",
    "def split_child(node, index, child):\n",
    "    new_node = BTreeNode(leaf=child.leaf)\n",
    "    node.keys.insert(index, child.keys[t - 1])\n",
    "    node.child.insert(index + 1, new_node)\n",
    "    new_node.keys = child.keys[t:2 * t - 1]\n",
    "    child.keys = child.keys[:t - 1]\n",
    "    if not child.leaf:\n",
    "        new_node.child = child.child[t:2 * t]\n",
    "        child.child = child.child[:t - 1]\n",
    "\n",
    "# Số tối thiểu khóa cho mỗi nút (t - 1)\n",
    "t = 1\n",
    "main()\n",
    "\n"
   ]
  }
 ],
 "metadata": {
  "kernelspec": {
   "display_name": "Python 3.9.2 64-bit",
   "language": "python",
   "name": "python3"
  },
  "language_info": {
   "codemirror_mode": {
    "name": "ipython",
    "version": 3
   },
   "file_extension": ".py",
   "mimetype": "text/x-python",
   "name": "python",
   "nbconvert_exporter": "python",
   "pygments_lexer": "ipython3",
   "version": "3.9.2"
  },
  "orig_nbformat": 4,
  "vscode": {
   "interpreter": {
    "hash": "916dbcbb3f70747c44a77c7bcd40155683ae19c65e1c03b4aa3499c5328201f1"
   }
  }
 },
 "nbformat": 4,
 "nbformat_minor": 2
}
