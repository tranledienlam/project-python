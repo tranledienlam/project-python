{
 "cells": [
  {
   "cell_type": "markdown",
   "metadata": {},
   "source": [
    "# I. BASIC"
   ]
  },
  {
   "cell_type": "markdown",
   "metadata": {},
   "source": [
    "### 1. Kiểm tra xem một chuỗi có chứa chữ số hay không bằng module `re`."
   ]
  },
  {
   "cell_type": "markdown",
   "metadata": {},
   "source": [
    "### 2. Tìm tất cả các từ bắt đầu bằng \"p\" trong một câu sử dụng module `re`."
   ]
  },
  {
   "cell_type": "markdown",
   "metadata": {},
   "source": [
    "### 3. Tìm tất cả các số trong một chuỗi sử dụng module `re`."
   ]
  },
  {
   "cell_type": "markdown",
   "metadata": {},
   "source": [
    "### 4. Tìm tất cả các chuỗi con có chứa chữ cái in hoa trong một chuỗi sử dụng module `re`."
   ]
  },
  {
   "cell_type": "markdown",
   "metadata": {},
   "source": [
    "### 5. Tìm tất cả các từ bắt đầu bằng nguyên âm trong một câu sử dụng module `re`."
   ]
  },
  {
   "cell_type": "markdown",
   "metadata": {},
   "source": [
    "### 6. Tìm tất cả các chuỗi con không phải số trong một chuỗi sử dụng module `re`."
   ]
  },
  {
   "cell_type": "markdown",
   "metadata": {},
   "source": [
    "### 7. Tìm tất cả các dòng bắt đầu bằng từ \"Subject:\" trong một văn bản sử dụng module `re`."
   ]
  },
  {
   "cell_type": "markdown",
   "metadata": {},
   "source": [
    "### 8. Tìm tất cả các chuỗi con có độ dài ít nhất 3 và kết thúc bằng \"ing\" trong một chuỗi sử dụng module `re`."
   ]
  },
  {
   "cell_type": "markdown",
   "metadata": {},
   "source": [
    "### 9. Tìm tất cả các chuỗi con bắt đầu bằng chữ \"a\" hoặc \"b\" hoặc \"c\" trong một chuỗi sử dụng module `re`."
   ]
  },
  {
   "cell_type": "markdown",
   "metadata": {},
   "source": [
    "### 10. Kiểm tra xem một chuỗi có chứa ít nhất một chữ cái in hoa, một chữ cái thường và một chữ số hay không sử dụng module `re`."
   ]
  },
  {
   "cell_type": "markdown",
   "metadata": {},
   "source": [
    "# II. MEDIUM"
   ]
  },
  {
   "cell_type": "markdown",
   "metadata": {},
   "source": [
    "### 11. Tìm tất cả các số điện thoại hợp lệ trong một văn bản sử dụng module `re`. (Ví dụ: (123) 456-7890)"
   ]
  },
  {
   "cell_type": "markdown",
   "metadata": {},
   "source": [
    "### 12. Tìm tất cả các chuỗi con trong dạng dấu phẩy và khoảng trắng sử dụng module `re`. (Ví dụ: \"apple, orange, banana\")"
   ]
  },
  {
   "cell_type": "markdown",
   "metadata": {},
   "source": [
    "### 13. Tìm tất cả các chuỗi con có chứa các chữ số liên tiếp sử dụng module `re`. (Ví dụ: \"abc123xyz\")"
   ]
  },
  {
   "cell_type": "markdown",
   "metadata": {},
   "source": [
    "### 14. Tìm tất cả các từ có chứa một chữ cái lặp lại sử dụng module `re`."
   ]
  },
  {
   "cell_type": "markdown",
   "metadata": {},
   "source": [
    "### 15. Tìm tất cả các từ có chứa một chữ cái không lặp lại sử dụng module `re`."
   ]
  },
  {
   "cell_type": "markdown",
   "metadata": {},
   "source": [
    "### 16. Tìm tất cả các chuỗi con có độ dài ít nhất 2 và lặp lại nhiều hơn một lần sử dụng module `re`."
   ]
  },
  {
   "cell_type": "markdown",
   "metadata": {},
   "source": [
    "### 17. Tìm tất cả các địa chỉ email hợp lệ trong một văn bản sử dụng module `re`."
   ]
  },
  {
   "cell_type": "markdown",
   "metadata": {},
   "source": [
    "### 18. Tìm tất cả các từ có chứa ít nhất một ký tự số sử dụng module `re`."
   ]
  },
  {
   "cell_type": "markdown",
   "metadata": {},
   "source": [
    "### 19. Tìm tất cả các từ bắt đầu bằng \"a\" hoặc \"e\" hoặc \"i\" hoặc \"o\" hoặc \"u\" và kết thúc bằng \"n\" sử dụng module `re`."
   ]
  },
  {
   "cell_type": "markdown",
   "metadata": {},
   "source": [
    "### 20. Tìm tất cả các chuỗi con không phải là từ điển sử dụng module `re`."
   ]
  },
  {
   "cell_type": "markdown",
   "metadata": {},
   "source": [
    "# III. DIFFICULT"
   ]
  },
  {
   "cell_type": "markdown",
   "metadata": {},
   "source": [
    "### 21. Tách câu thành các từ sử dụng module `re`."
   ]
  },
  {
   "cell_type": "markdown",
   "metadata": {},
   "source": [
    "### 22. Tìm tất cả các từ đảo ngược trong một câu sử dụng module `re`."
   ]
  },
  {
   "cell_type": "markdown",
   "metadata": {},
   "source": [
    "### 23. Tìm tất cả các từ bắt đầu bằng chữ hoa và có độ dài ít nhất 5 trong một văn bản sử dụng module `re`."
   ]
  },
  {
   "cell_type": "markdown",
   "metadata": {},
   "source": [
    "### 24. Tìm tất cả các chuỗi con có độ dài chẵn và chỉ chứa chữ cái sử dụng module `re`."
   ]
  },
  {
   "cell_type": "markdown",
   "metadata": {},
   "source": [
    "### 25. Tìm tất cả các từ có chứa chữ cái \"a\" hoặc \"e\" hoặc \"i\" hoặc \"o\" hoặc \"u\" ít nhất hai lần sử dụng module `re`."
   ]
  },
  {
   "cell_type": "markdown",
   "metadata": {},
   "source": [
    "### 26. Tìm tất cả các chuỗi con không chứa khoảng trắng và ký tự đặc biệt sử dụng module `re`."
   ]
  },
  {
   "cell_type": "markdown",
   "metadata": {},
   "source": [
    "### 27. Tìm tất cả các số nguyên dương trong một chuỗi sử dụng module `re`."
   ]
  },
  {
   "cell_type": "markdown",
   "metadata": {},
   "source": [
    "### 28. Tìm tất cả các chuỗi con trong dạng mã màu HEX (ví dụ: #FF0000) sử dụng module `re`."
   ]
  },
  {
   "cell_type": "markdown",
   "metadata": {},
   "source": [
    "### 29. Tìm tất cả các từ có chứa hai chữ cái giống nhau liền kề sử dụng module `re`."
   ]
  },
  {
   "cell_type": "markdown",
   "metadata": {},
   "source": [
    "### 30. Tìm tất cả các chuỗi con là một số hạng trong biểu thức toán học (ví dụ: 2+3, 4*5) sử dụng module `re`."
   ]
  }
 ],
 "metadata": {
  "language_info": {
   "name": "python"
  },
  "orig_nbformat": 4
 },
 "nbformat": 4,
 "nbformat_minor": 2
}
