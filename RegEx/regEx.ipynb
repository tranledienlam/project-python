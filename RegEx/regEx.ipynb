{
 "cells": [
  {
   "cell_type": "markdown",
   "metadata": {},
   "source": [
    "# I. BASIC"
   ]
  },
  {
   "cell_type": "markdown",
   "metadata": {},
   "source": [
    "#### 1. Kiểm tra xem một chuỗi có chứa chữ số hay không bằng module `re`."
   ]
  },
  {
   "cell_type": "code",
   "execution_count": 83,
   "metadata": {},
   "outputs": [
    {
     "name": "stdout",
     "output_type": "stream",
     "text": [
      "hello 123: True\n",
      "how are you: False\n",
      "today 36 degrees Celsius: True\n",
      "1990: True\n"
     ]
    }
   ],
   "source": [
    "import re\n",
    "\n",
    "def isLeastNumber(str):\n",
    "    # digit = re.findall('\\d+', str)\n",
    "    digit = re.findall('[0-9]+',str)\n",
    "    if len(digit) > 0:\n",
    "        return True\n",
    "    else:\n",
    "        return False\n",
    "    \n",
    "case1 = 'hello 123'\n",
    "case2 = 'how are you'\n",
    "case3 = 'today 36 degrees Celsius'\n",
    "case4 = '1990'\n",
    "print(f'{case1}: {isLeastNumber(case1)}')\n",
    "print(f'{case2}: {isLeastNumber(case2)}')\n",
    "print(f'{case3}: {isLeastNumber(case3)}')\n",
    "print(f'{case4}: {isLeastNumber(case4)}')"
   ]
  },
  {
   "cell_type": "markdown",
   "metadata": {},
   "source": [
    "#### 2. Tìm tất cả các từ bắt đầu bằng \"p\" trong một câu sử dụng module `re`."
   ]
  },
  {
   "cell_type": "code",
   "execution_count": 85,
   "metadata": {},
   "outputs": [
    {
     "name": "stdout",
     "output_type": "stream",
     "text": [
      "27 degrees __ @: []\n",
      "The cat played with a ball of yarn.: ['played']\n",
      "I need to buy some paper for the Printer.: ['paper', 'Printer']\n",
      "He opened the book and began reading from the middle page: ['page']\n"
     ]
    }
   ],
   "source": [
    "import re\n",
    "\n",
    "def find_letter_begin_p(str):\n",
    "    return re.findall(r'\\b[pP]\\w+', str)\n",
    "\n",
    "case1 = '27 degrees __ @'\n",
    "case2 = 'The cat played with a ball of yarn.'\n",
    "case3 = 'I need to buy some paper for the Printer.'\n",
    "case4 = 'He opened the book and began reading from the middle page'\n",
    "print(f'{case1}: {find_letter_begin_p(case1)}')\n",
    "print(f'{case2}: {find_letter_begin_p(case2)}')\n",
    "print(f'{case3}: {find_letter_begin_p(case3)}')\n",
    "print(f'{case4}: {find_letter_begin_p(case4)}')"
   ]
  },
  {
   "cell_type": "markdown",
   "metadata": {},
   "source": [
    "#### 3. Tìm tất cả các số trong một chuỗi sử dụng module `re`."
   ]
  },
  {
   "cell_type": "markdown",
   "metadata": {},
   "source": [
    "output:\n",
    "\n",
    "['-3.7']\n",
    "\n",
    "['10', '1995']\n",
    "\n",
    "['9.5']"
   ]
  },
  {
   "cell_type": "code",
   "execution_count": 118,
   "metadata": {},
   "outputs": [
    {
     "name": "stdout",
     "output_type": "stream",
     "text": [
      "The temperature is -3.7 degrees Celsius.: ['-3.7']\n",
      "She was born on March 10th, 1995.: ['10', '1995']\n",
      "I received a grade of 9.5 in my Mathematics class.: ['9.5']\n"
     ]
    }
   ],
   "source": [
    "import re\n",
    "def find_numbers(str) -> list:\n",
    "    # return re.findall(r'[-+]?\\d+(?:\\.\\d+)?', str)\n",
    "    return re.findall(r'[-+]?[0-9]+.[0-9]+|[0-9]+',str)\n",
    "\n",
    "case1 = 'The temperature is -3.7 degrees Celsius.'\n",
    "case2 = 'She was born on March 10th, 1995.'\n",
    "case3 = 'I received a grade of 9.5 in my Mathematics class.'\n",
    "\n",
    "print(f'{case1}: {find_numbers(case1)}')\n",
    "print(f'{case2}: {find_numbers(case2)}')\n",
    "print(f'{case3}: {find_numbers(case3)}')"
   ]
  },
  {
   "cell_type": "markdown",
   "metadata": {},
   "source": [
    "#### 4. Tìm tất cả các chữ cái đầu In hoa trong một chuỗi sử dụng module `re`."
   ]
  },
  {
   "cell_type": "markdown",
   "metadata": {},
   "source": [
    "input: \"Hello, How are you Today?\"\n",
    "\n",
    "output: ['Hello', 'How','Today']"
   ]
  },
  {
   "cell_type": "code",
   "execution_count": 77,
   "metadata": {},
   "outputs": [
    {
     "name": "stdout",
     "output_type": "stream",
     "text": [
      "TODAY is a Beautiful Day.: ['TODAY', 'Beautiful', 'Day']\n",
      "I Love Learning New Things.: ['Love', 'Learning', 'New', 'Things']\n",
      "The Sun Sets in the West.: ['The', 'Sun', 'Sets', 'West']\n"
     ]
    }
   ],
   "source": [
    "def find_capitalize_letter(str) -> list:\n",
    "    return re.findall(r'[A-Z]\\w+',str)\n",
    "\n",
    "case1 = 'TODAY is a Beautiful Day.'\n",
    "case2 = 'I Love Learning New Things.'\n",
    "case3 = 'The Sun Sets in the West.'\n",
    "\n",
    "print(f'{case1}: {find_capitalize_letter(case1)}')\n",
    "print(f'{case2}: {find_capitalize_letter(case2)}')\n",
    "print(f'{case3}: {find_capitalize_letter(case3)}')\n"
   ]
  },
  {
   "cell_type": "markdown",
   "metadata": {},
   "source": [
    "#### 5. Tìm tất cả các từ bắt đầu bằng nguyên âm trong một câu sử dụng module `re`."
   ]
  },
  {
   "cell_type": "code",
   "execution_count": 81,
   "metadata": {},
   "outputs": [
    {
     "name": "stdout",
     "output_type": "stream",
     "text": [
      "I am learning regular expressions in Python.: ['I', 'am', 'expressions', 'in']\n",
      "Apple is a delicious fruit.: ['Apple', 'is', 'a']\n",
      "I opened an umbrella during the rainstorm.: ['I', 'opened', 'an', 'umbrella']\n"
     ]
    }
   ],
   "source": [
    "def find_letter_start_with_vowel(str) -> list:\n",
    "    pattern = r'\\b[auioeAUIOE]\\w*'\n",
    "    return re.findall(pattern,str)\n",
    "\n",
    "case1 = \"I am learning regular expressions in Python.\"\n",
    "case2 = \"Apple is a delicious fruit.\"\n",
    "case3 = \"I opened an umbrella during the rainstorm.\"\n",
    "\n",
    "print(f'{case1}: {find_letter_start_with_vowel(case1)}')\n",
    "print(f'{case2}: {find_letter_start_with_vowel(case2)}')\n",
    "print(f'{case3}: {find_letter_start_with_vowel(case3)}')\n"
   ]
  },
  {
   "cell_type": "markdown",
   "metadata": {},
   "source": [
    "#### 6. Tìm tất cả các chuỗi con trong dạng dấu phẩy và khoảng trắng sử dụng module `re`. (Ví dụ: \"apple, orange, banana\")"
   ]
  },
  {
   "cell_type": "markdown",
   "metadata": {},
   "source": [
    "Input: \"apple, orange, banana\"<br>\n",
    "Output: ['apple', ' orange', ' banana']\n",
    "\n",
    "Input: \"red, green, blue, yellow\"<br>\n",
    "Output: ['red', ' green', ' blue', ' yellow']"
   ]
  },
  {
   "cell_type": "code",
   "execution_count": 4,
   "metadata": {},
   "outputs": [
    {
     "name": "stdout",
     "output_type": "stream",
     "text": [
      "['apple', 'orange', 'banana']\n",
      "['red', 'green', 'blue', 'yellow']\n"
     ]
    }
   ],
   "source": [
    "import re\n",
    "\n",
    "def find_str_comma(str):\n",
    "    pattern = r'\\w+'\n",
    "    return re.findall(pattern, str)\n",
    "\n",
    "case1 = \"apple, orange, banana\"\n",
    "case2 = \"red, green, blue, yellow\"\n",
    "\n",
    "print(find_str_comma(case1))\n",
    "print(find_str_comma(case2))"
   ]
  },
  {
   "cell_type": "markdown",
   "metadata": {},
   "source": [
    "#### 7. Tìm tất cả các dòng bắt đầu bằng từ \"Subject:\" trong một văn bản sử dụng module `re`."
   ]
  },
  {
   "cell_type": "code",
   "execution_count": 82,
   "metadata": {},
   "outputs": [
    {
     "name": "stdout",
     "output_type": "stream",
     "text": [
      "['Subject: Hello, Jane!', 'Subject: Important Reminder', 'subject: Urgent: Action Required']\n"
     ]
    }
   ],
   "source": [
    "import re\n",
    "\n",
    "def find_lines_start_subject(str) -> list:\n",
    "    pattern = r'\\b[sS]ubject.*'\n",
    "    return re.findall(pattern, str)\n",
    "\n",
    "case1 = '''\n",
    "From: john.doe@example.com\n",
    "To: jane.doe@example.com\n",
    "Subject: Hello, Jane!\n",
    "\n",
    "Hi Jane,\n",
    "How are you?\n",
    "\n",
    "Subject: Important Reminder\n",
    "\n",
    "Just a friendly reminder about our meeting tomorrow.\n",
    "\n",
    "subject: Urgent: Action Required\n",
    "\n",
    "Please take immediate action regarding the pending issue.\n",
    "\n",
    "Best regards,\n",
    "John\n",
    "'''\n",
    "print(f'{find_lines_start_subject(case1)}')"
   ]
  },
  {
   "cell_type": "markdown",
   "metadata": {},
   "source": [
    "#### 8. Tìm tất cả từ có độ dài con ít nhất 4 và kết thúc bằng \"ing\" trong một chuỗi sử dụng module `re`."
   ]
  },
  {
   "cell_type": "code",
   "execution_count": 103,
   "metadata": {},
   "outputs": [
    {
     "name": "stdout",
     "output_type": "stream",
     "text": [
      "['shining', 'playing']\n",
      "['blowing', 'singing']\n"
     ]
    }
   ],
   "source": [
    "import re\n",
    "def find_string_end_ing(str) -> list:\n",
    "    pattern = r'\\w{4,}ing\\b'\n",
    "    return re.findall(pattern,str)\n",
    "\n",
    "case1 = \"The sun is shining. They are playing soccer. We're having a party tonight.\"\n",
    "case2 = \"I love hiking in the mountains. The wind is blowing. The kids are singing.\"\n",
    "print(find_string_end_ing(case1))\n",
    "print(find_string_end_ing(case2))"
   ]
  },
  {
   "cell_type": "markdown",
   "metadata": {},
   "source": [
    "#### 9. Tìm tất cả các chữ bắt đầu bằng chữ \"a\" hoặc \"b\" hoặc \"c\" trong một chuỗi sử dụng module `re`."
   ]
  },
  {
   "cell_type": "markdown",
   "metadata": {},
   "source": [
    "Input: \"Cats and dogs are popular pets.\" <br>\n",
    "Output: ['Cats']\n",
    "\n",
    "Input: \"I have an Apple and a Banana.\" <br>\n",
    "Output: ['an', 'Apple', 'and', 'a', 'Banana']\n",
    "\n",
    "Input: \"The big brown bear is sleeping.\" <br>\n",
    "Output: ['big', 'brown', 'bear', 'is']"
   ]
  },
  {
   "cell_type": "code",
   "execution_count": 155,
   "metadata": {},
   "outputs": [
    {
     "name": "stdout",
     "output_type": "stream",
     "text": [
      "Cats and dogs are popular pets.: ['Cats', 'and', 'are']\n",
      "I have an Apple and a Banana.: ['an', 'Apple', 'and', 'a', 'Banana']\n",
      "The big brown bear is sleeping.: ['big', 'brown', 'bear']\n"
     ]
    }
   ],
   "source": [
    "import re\n",
    "\n",
    "def find_letter_start_abc(str) -> list:\n",
    "    pattern = r'\\b[abcABC]\\w*'\n",
    "    return re.findall(pattern, str)\n",
    "\n",
    "case1 = \"Cats and dogs are popular pets.\"\n",
    "case2 = \"I have an Apple and a Banana.\"\n",
    "case3 = \"The big brown bear is sleeping.\"\n",
    "\n",
    "print(f'{case1}: {find_letter_start_abc(case1)}')\n",
    "print(f'{case2}: {find_letter_start_abc(case2)}')\n",
    "print(f'{case3}: {find_letter_start_abc(case3)}')\n"
   ]
  },
  {
   "cell_type": "markdown",
   "metadata": {},
   "source": [
    "#### 10. Kiểm tra xem một chuỗi có chứa ít nhất một chữ cái in hoa, một chữ cái thường và một chữ số hay không sử dụng module `re`."
   ]
  },
  {
   "cell_type": "markdown",
   "metadata": {},
   "source": [
    "input: 'Hal04z1' <br>\n",
    "output: True\n",
    "\n",
    "input: 'HAD@#\\' <br>\n",
    "output: False\n",
    "\n",
    "input: '38191' <br>\n",
    "output: False"
   ]
  },
  {
   "cell_type": "code",
   "execution_count": 182,
   "metadata": {},
   "outputs": [
    {
     "name": "stdout",
     "output_type": "stream",
     "text": [
      "hAl04z: True\n",
      "Had@#\\: False\n",
      "38191: False\n"
     ]
    }
   ],
   "source": [
    "import re\n",
    "\n",
    "def check_str(str):\n",
    "    pattern = r'(?=.*[A-Z])(?=.*[a-z])(?=.*\\d)'\n",
    "    check = re.match(pattern,str)\n",
    "    \n",
    "    if check:\n",
    "        return True\n",
    "    else:\n",
    "        return False\n",
    "\n",
    "case1 = 'hAl04z'\n",
    "case2 = 'Had@#\\\\'\n",
    "case3 = '38191'\n",
    "\n",
    "print(f'{case1}: {check_str(case1)}')\n",
    "print(f'{case2}: {check_str(case2)}')\n",
    "print(f'{case3}: {check_str(case3)}')\n"
   ]
  },
  {
   "cell_type": "markdown",
   "metadata": {},
   "source": [
    "# II. MEDIUM"
   ]
  },
  {
   "cell_type": "markdown",
   "metadata": {},
   "source": [
    "#### 11. Tìm tất cả các số điện thoại hợp lệ trong một văn bản sử dụng module `re`. (Ví dụ: (123) 456-7890)"
   ]
  },
  {
   "cell_type": "markdown",
   "metadata": {},
   "source": [
    "Input: \"Please contact us at (123) 456-7890 for further assistance or dial 1-800-555-1234 for customer support.\" <br>\n",
    "Output: ['(123) 456-7890', '1-800-555-1234']"
   ]
  },
  {
   "cell_type": "code",
   "execution_count": 210,
   "metadata": {},
   "outputs": [
    {
     "name": "stdout",
     "output_type": "stream",
     "text": [
      "['(123) 456-7890', '1-800-555-1234']\n",
      "['123-456-7890']\n"
     ]
    }
   ],
   "source": [
    "import re\n",
    "\n",
    "def find_phone(str):\n",
    "    pattern = r'[(]?\\d+.{,10}\\d+'\n",
    "    return re.findall(pattern,str)\n",
    "\n",
    "case1 = \"Please contact us at (123) 456-7890 for further assistance or dial 1-800-555-1234 for customer support.\"\n",
    "case2 = \"She gave me her cell phone number: 123-456-7890.\"\n",
    "print(find_phone(case1))\n",
    "print(find_phone(case2))"
   ]
  },
  {
   "cell_type": "markdown",
   "metadata": {},
   "source": [
    "#### 12. (chưa giải được) Tìm tất cả các chuỗi con không phải số trong một chuỗi sử dụng module `re`."
   ]
  },
  {
   "cell_type": "markdown",
   "metadata": {},
   "source": [
    "Input: 'Hello -123 World!'<br>\n",
    "Output: ['Hello ', ' World!']\n",
    "\n",
    "Input: 'The price is $19.99.'<br>\n",
    "Output: ['The price is \\$', '.']\n",
    "\n",
    "Input: 'There are 7 days in a week.'<br>\n",
    "Output: ['There are ', ' days in a week.']\n",
    "\n",
    "Input: \"I'm 18 year old\"<br>\n",
    "Output: [\"I'm \", \" year old\"]"
   ]
  },
  {
   "cell_type": "code",
   "execution_count": null,
   "metadata": {},
   "outputs": [],
   "source": [
    "import re\n",
    "def find_str_not_number(str) -> list:\n",
    "    pattern = r'(?:^|\\s)(?!(?:[-+]?\\d+(?:\\.\\d+)?))(.*?)(?=\\s|$)'\n",
    "    pattern = r'[a-zA-Z]+'\n",
    "    return re.findall(r'[^-]?',str)\n",
    "\n",
    "case1 = 'Hello -123 World!'\n",
    "case2 = 'The price is $19.99 for it.'\n",
    "case3 = 'There are 7 days in a week.'\n",
    "case4 = 'I\\'m 18 year old'\n",
    "\n",
    "print(f'{case1}: {find_str_not_number(case1)}')\n",
    "print(f'{case2}: {find_str_not_number(case2)}')\n",
    "print(f'{case3}: {find_str_not_number(case3)}')\n",
    "print(f'{case4}: {find_str_not_number(case4)}')\n"
   ]
  },
  {
   "cell_type": "markdown",
   "metadata": {},
   "source": []
  },
  {
   "cell_type": "markdown",
   "metadata": {},
   "source": [
    "#### 13. Tìm tất cả các từ có chứa ít nhất một ký tự số sử dụng module `re`."
   ]
  },
  {
   "cell_type": "code",
   "execution_count": null,
   "metadata": {},
   "outputs": [],
   "source": [
    "import re\n",
    "\n",
    "def find_str_least_number(str):\n",
    "    pattern = r'\\b\\w+\\d\\w+\\b|\\b\\d\\w+\\b|\\b\\w+\\d\\b'\n",
    "    return re.findall(pattern,str)\n",
    "\n",
    "\n",
    "case1 = 'He1llo Wo123rld'\n",
    "case2 = 'I have 98apples and 5ora00nges, for 3 animals'\n",
    "case3 = 'There are cats2 and dogs23 in the house'\n",
    "\n",
    "print(f'{case1}: {find_str_least_number(case1)}')\n",
    "print(f'{case2}: {find_str_least_number(case2)}')\n",
    "print(f'{case3}: {find_str_least_number(case3)}')"
   ]
  },
  {
   "cell_type": "markdown",
   "metadata": {},
   "source": [
    "#### 14. Tìm tất cả các chuỗi con có chứa các chữ số liên tiếp sử dụng module `re`. (Ví dụ: \"abc123xyz\")"
   ]
  },
  {
   "cell_type": "markdown",
   "metadata": {},
   "source": [
    "input: 'He1llo Wo123rld' <br>\n",
    "output: ['Wo123rld']\n",
    "\n",
    "input: 'I have 98apples and 5ora00nges, for 3 animals'<br>\n",
    "output: ['98apples','5ora00nges']\n",
    "\n",
    "input: 'There are cats2 and dogs23 in the house'<br>\n",
    "output: ['dogs23']"
   ]
  },
  {
   "cell_type": "code",
   "execution_count": 24,
   "metadata": {},
   "outputs": [
    {
     "name": "stdout",
     "output_type": "stream",
     "text": [
      "[('He1llo', 'l')]\n",
      "He1llo Wo123rld: ['He1llo']\n",
      "[('98apples', 'p'), ('5ora00nges', '0')]\n",
      "I have 98apples and 5ora00nges, for 3 animals: ['98apples', '5ora00nges']\n",
      "[]\n",
      "There are cats2 and dogs23 in the house: []\n"
     ]
    }
   ],
   "source": [
    "import re\n",
    "\n",
    "def find_str_consecutive_number(str):\n",
    "    pattern = r'\\b\\w+\\d{2,}\\w+\\b|\\b\\d{2,}\\w+\\b|\\b\\w+\\d{2,}\\b'\n",
    "    return re.findall(pattern,str)\n",
    "\n",
    "\n",
    "case1 = 'He1llo Wo123rld'\n",
    "case2 = 'I have 98apples and 5ora00nges, for 3 animals'\n",
    "case3 = 'There are cats2 and dogs23 in the house'\n",
    "\n",
    "print(f'{case1}: {find_str_consecutive_number(case1)}')\n",
    "print(f'{case2}: {find_str_consecutive_number(case2)}')\n",
    "print(f'{case3}: {find_str_consecutive_number(case3)}')"
   ]
  },
  {
   "cell_type": "markdown",
   "metadata": {},
   "source": [
    "#### 15. Tìm tất cả các từ có chứa một chữ cái lặp lại sử dụng module `re`."
   ]
  },
  {
   "cell_type": "markdown",
   "metadata": {},
   "source": [
    "Input: \"Helllo world\" <br>\n",
    "Output: ['Helllo']\n",
    "\n",
    "Input: \"This is a testest\" <br>\n",
    "Output: ['testest']\n",
    "\n",
    "Input: \"She sells seashells by the seashore\" <br>\n",
    "Output: ['sells','seashells','seashore']"
   ]
  },
  {
   "cell_type": "code",
   "execution_count": 77,
   "metadata": {},
   "outputs": [
    {
     "name": "stdout",
     "output_type": "stream",
     "text": [
      "Helllo world: ['Helllo']\n",
      "This is a testest: ['testest']\n",
      "She sells seashells by the seashore: ['sells', 'seashells', 'seashore']\n"
     ]
    }
   ],
   "source": [
    "def find_letter_char_repeat(str) -> list:\n",
    "    pattern1 = r'\\w+\\b'\n",
    "    words = re.findall(pattern1,str)\n",
    "    \n",
    "    result =[]\n",
    "    pattern2 = r'(\\w).*\\1'\n",
    "    for word in words:\n",
    "        if re.search(pattern2,word):\n",
    "            result.append(word)\n",
    "    \n",
    "    return result\n",
    "\n",
    "case1 = \"Helllo world\"\n",
    "case2 = \"This is a testest\"\n",
    "case3 = \"She sells seashells by the seashore\"\n",
    "\n",
    "print(f'{case1}: {find_letter_char_repeat(case1)}')\n",
    "print(f'{case2}: {find_letter_char_repeat(case2)}')\n",
    "print(f'{case3}: {find_letter_char_repeat(case3)}')\n"
   ]
  },
  {
   "cell_type": "markdown",
   "metadata": {},
   "source": [
    "#### 16. Tìm tất cả các từ có chữ cái không lặp lại sử dụng module `re`."
   ]
  },
  {
   "cell_type": "markdown",
   "metadata": {},
   "source": [
    "Input: \"Helllo world\" <br>\n",
    "Output: ['world']\n",
    "\n",
    "Input: \"This is a testest\" <br>\n",
    "Output: ['This','is','a']\n",
    "\n",
    "Input: \"She sells seashells by the seashore\" <br>\n",
    "Output: ['She','by','the']"
   ]
  },
  {
   "cell_type": "code",
   "execution_count": 78,
   "metadata": {},
   "outputs": [
    {
     "name": "stdout",
     "output_type": "stream",
     "text": [
      "Helllo Hord: ['Hord']\n",
      "This is a testest: ['This', 'is', 'a']\n",
      "She sells seashells by the seashore: ['She', 'by', 'the']\n"
     ]
    }
   ],
   "source": [
    "import re\n",
    "\n",
    "def find_letter_char_repeat(str) -> list:\n",
    "    words = re.findall(r'\\b\\w+\\b', str)  # Tách câu thành các từ\n",
    "    result = []\n",
    "    \n",
    "    for word in words:\n",
    "        pattern = r'(\\w).*\\1'  # Biểu thức chính quy kiểm tra xem có chữ cái lặp lại trong từ hay không\n",
    "        if not re.search(pattern, word, flags=re.IGNORECASE):\n",
    "            result.append(word)\n",
    "    \n",
    "    return result\n",
    "\n",
    "case1 = \"Helllo Hord\"\n",
    "case2 = \"This is a testest\"\n",
    "case3 = \"She sells seashells by the seashore\"\n",
    "\n",
    "print(f'{case1}: {find_letter_char_repeat(case1)}')\n",
    "print(f'{case2}: {find_letter_char_repeat(case2)}')\n",
    "print(f'{case3}: {find_letter_char_repeat(case3)}')\n"
   ]
  },
  {
   "cell_type": "markdown",
   "metadata": {},
   "source": [
    "#### (chưa giải được) 17. Tìm tất cả các chuỗi con có độ dài ít nhất 2 và lặp lại nhiều hơn một lần sử dụng module `re`."
   ]
  },
  {
   "cell_type": "markdown",
   "metadata": {},
   "source": [
    "Input: \"Hello, hello, world!\"<br>\n",
    "Output: ['ello']\n",
    "\n",
    "Input: \"This is a test. Test the code.\"<br>\n",
    "Output: ['is', 'est']\n",
    "\n",
    "Input: \"She sells seashells by the seashore\"<br>\n",
    "Output: ['se', 'he', 'ells']"
   ]
  },
  {
   "cell_type": "code",
   "execution_count": 100,
   "metadata": {},
   "outputs": [
    {
     "name": "stdout",
     "output_type": "stream",
     "text": [
      "Hello, hello, world!: ['l', 'l']\n",
      "This is a test. Test the code.: []\n",
      "She sells seashells by the seashore: ['l', 'l']\n"
     ]
    }
   ],
   "source": [
    "import re\n",
    "\n",
    "def find_string_repeat_twice(str):\n",
    "    pattern = r'(\\S){2,}\\1'  # Biểu thức chính quy để tìm các chuỗi con lặp lại\n",
    "    # pattern = re.compile(pattern)\n",
    "    \n",
    "    return re.findall(pattern, str)\n",
    "\n",
    "case1 = \"Hello, hello, world!\"\n",
    "case2 = \"This is a test. Test the code.\"\n",
    "case3 = \"She sells seashells by the seashore\"\n",
    "\n",
    "print(f'{case1}: {find_string_repeat_twice(case1)}')\n",
    "print(f'{case2}: {find_string_repeat_twice(case2)}')\n",
    "print(f'{case3}: {find_string_repeat_twice(case3)}')\n"
   ]
  },
  {
   "cell_type": "markdown",
   "metadata": {},
   "source": [
    "#### 18. Tìm tất cả các địa chỉ email hợp lệ trong một văn bản sử dụng module `re`."
   ]
  },
  {
   "cell_type": "code",
   "execution_count": 116,
   "metadata": {},
   "outputs": [
    {
     "name": "stdout",
     "output_type": "stream",
     "text": [
      "['info-tt@example.com', 'suppo+rt@example.com']\n",
      "['john.doe@example.com.VN', 'support@company.com', 'info@company.com']\n"
     ]
    }
   ],
   "source": [
    "import re\n",
    "\n",
    "def find_email(str):\n",
    "    pattern = r'[\\w.+-]+@[\\w.]+\\.[a-zA-Z]+'\n",
    "    return re.findall(pattern,str)\n",
    "\n",
    "case1 = \"This is a sample text. Contact us at info-tt@example.com or suppo+rt@example.com for assistance.\"\n",
    "case2 = \"Please contact me at john.doe@example.com.VN for any inquiries. You can also reach out to us at support@company.com. For partnership opportunities, email us at info@company.com.\"\n",
    "\n",
    "print(find_email(case1))\n",
    "print(find_email(case2))"
   ]
  },
  {
   "cell_type": "markdown",
   "metadata": {},
   "source": [
    "#### 19. Tìm tất cả các từ bắt đầu bằng \"a\" hoặc \"e\" hoặc \"i\" hoặc \"o\" hoặc \"u\" và kết thúc bằng \"n\", hoặc \"t\", hoặc \"s\" sử dụng module `re`."
   ]
  },
  {
   "cell_type": "markdown",
   "metadata": {},
   "source": [
    "Input: 'An apple is a fruit'<br>\n",
    "Output: ['An', 'is']\n",
    "\n",
    "Input: 'The ocean wav@es crash against an shore'<br>\n",
    "Output: ['ocean', 'against', 'an']"
   ]
  },
  {
   "cell_type": "code",
   "execution_count": 21,
   "metadata": {},
   "outputs": [
    {
     "name": "stdout",
     "output_type": "stream",
     "text": [
      "An apple is a fruit: ['An', 'is']\n",
      "The ocean wav@es crash against an shore: ['ocean', 'against', 'an']\n"
     ]
    }
   ],
   "source": [
    "import re\n",
    "\n",
    "alphabet = {\n",
    "    'start': 'aeiouAEIOU',\n",
    "    'end' : 'nts'\n",
    "}\n",
    "\n",
    "def find_letter_start_aeio_end_n(str):\n",
    "    words = re.findall(r'\\S+',str)\n",
    "    # pattern = r'\\b[aeiouAEIOU]\\S*[nts]\\b' # không xử lý được wav@es\n",
    "    result = []\n",
    "    for word in words:\n",
    "        if re.findall('^[%(start)s]\\S*[%(end)s]'%alphabet, word):\n",
    "            result.append(word)\n",
    "    return result\n",
    "\n",
    "case1 = \"An apple is a fruit\"\n",
    "case2 = \"The ocean wav@es crash against an shore\"\n",
    "\n",
    "print(f'{case1}: {find_letter_start_aeio_end_n(case1)}')\n",
    "print(f'{case2}: {find_letter_start_aeio_end_n(case2)}')"
   ]
  },
  {
   "cell_type": "markdown",
   "metadata": {},
   "source": [
    "### (Vô nghĩa) 20. Tìm tất cả các chuỗi con không phải là từ điển sử dụng module `re`."
   ]
  },
  {
   "cell_type": "code",
   "execution_count": 160,
   "metadata": {},
   "outputs": [
    {
     "name": "stdout",
     "output_type": "stream",
     "text": [
      "['. ', '-', \" '\", \"' \", \" '\", \"'.\"]\n"
     ]
    }
   ],
   "source": [
    "import re\n",
    "\n",
    "def find_non_dictionary_substrings(text):\n",
    "    pattern = r'\\b\\w+\\b'\n",
    "    words = re.findall(pattern, text)\n",
    "    dictionary = set(words)\n",
    "    non_dictionary_substrings = re.split(pattern, text)\n",
    "    return [substring for substring in non_dictionary_substrings if substring.strip()]\n",
    "\n",
    "text = \"This is a sample sentence. It contains some non-dictionary words like 'thx' and 'lolz'.\"\n",
    "\n",
    "result = find_non_dictionary_substrings(text)\n",
    "print(result)"
   ]
  },
  {
   "cell_type": "markdown",
   "metadata": {},
   "source": [
    "# III. DIFFICULT"
   ]
  },
  {
   "cell_type": "markdown",
   "metadata": {},
   "source": [
    "#### (easy) 21. Tách câu thành các từ sử dụng module `re`."
   ]
  },
  {
   "cell_type": "markdown",
   "metadata": {},
   "source": [
    "Input: \"Hello, how are you? I'm doing well.\"<br>\n",
    "Output: ['Hello', 'how', 'are', 'you', \"I'm\", 'doing', 'well']\n",
    "\n",
    "Input: \"I love coding in Python! It's fun.\" <br>\n",
    "Output: ['I', 'love', 'coding', 'in', 'Python', \"It's\", 'fun']\n",
    "\n",
    "Input: \"Some special characters: @, #, $, %. And a non-alphabetic character: word123.\"<br>\n",
    "Output: ['Some', 'special', 'characters', 'And', 'a', 'non-alphabetic', 'character', 'word123']"
   ]
  },
  {
   "cell_type": "code",
   "execution_count": 14,
   "metadata": {},
   "outputs": [
    {
     "name": "stdout",
     "output_type": "stream",
     "text": [
      "Hello, how are you? I'm doing well.: ['Hello', 'how', 'are', 'you', \"I'm\", 'doing', 'well']\n",
      "I love coding in Python! It's fun.: ['I', 'love', 'coding', 'in', 'Python', \"It's\", 'fun']\n",
      "Some special characters: @, #, $, %. And a non-alphabetic character: word123.: ['Some', 'special', 'characters', 'And', 'a', 'non-alphabetic', 'character', 'word123']\n"
     ]
    }
   ],
   "source": [
    "import re\n",
    "\n",
    "def split_sentence_to_words(str):\n",
    "    pattern = r\"\\w*['-]?\\w+\"\n",
    "    return re.findall(pattern,str)\n",
    "\n",
    "\n",
    "case1 = \"Hello, how are you? I'm doing well.\"\n",
    "case2 = \"I love coding in Python! It's fun.\"\n",
    "case3 = \"Some special characters: @, #, $, %. And a non-alphabetic character: word123.\"\n",
    "\n",
    "print(f'{case1}: {split_sentence_to_words(case1)}')\n",
    "print(f'{case2}: {split_sentence_to_words(case2)}')\n",
    "print(f'{case3}: {split_sentence_to_words(case3)}')"
   ]
  },
  {
   "cell_type": "markdown",
   "metadata": {},
   "source": [
    "#### 22. Tìm tất cả các từ palindrome (không phân biệt hoa thường) trong một câu sử dụng module `re`."
   ]
  },
  {
   "cell_type": "markdown",
   "metadata": {},
   "source": [
    "input: \"Racecar is a palindrome. Madam and level are also palindrome.\"\n",
    "output: ['Racecar', 'Madam', 'level']"
   ]
  },
  {
   "cell_type": "code",
   "execution_count": 27,
   "metadata": {},
   "outputs": [
    {
     "name": "stdout",
     "output_type": "stream",
     "text": [
      "['Racecar', 'Madam', 'le@el']\n"
     ]
    }
   ],
   "source": [
    "def find_palindrome(str):\n",
    "    pattern = r'\\S+'\n",
    "    words = re.findall(pattern,str)\n",
    "    result = [word for word in words if (word.lower() == word[::-1].lower()) and (len(word)>1)]\n",
    "    return result\n",
    "\n",
    "case1 = \"Racecar is a palindrome. Madam and le@el are also palindrome.\"\n",
    "\n",
    "print(find_palindrome(case1))"
   ]
  },
  {
   "cell_type": "markdown",
   "metadata": {},
   "source": [
    "#### 23. Tìm tất cả các từ bắt đầu bằng chữ hoa và có độ dài ít nhất 5 trong một văn bản sử dụng module `re`."
   ]
  },
  {
   "cell_type": "markdown",
   "metadata": {},
   "source": [
    "Input: \"Hello world, How Are You Today?\"<br>\n",
    "Output: ['Hello', 'Today']\n",
    "\n",
    "Input: \"This Is a Test Sentence\"<br>\n",
    "Output: ['Sentence']\n",
    "\n",
    "Input: \"The Quick Brown Fox Jumps Over the Lazy Dog\"<br>\n",
    "Output: ['Quick', 'Brown', 'Jumps']"
   ]
  },
  {
   "cell_type": "code",
   "execution_count": 10,
   "metadata": {},
   "outputs": [
    {
     "name": "stdout",
     "output_type": "stream",
     "text": [
      "['Hello', 'Today']\n",
      "['Sentence']\n",
      "['Quick', 'Brown', 'Jumps']\n"
     ]
    }
   ],
   "source": [
    "import re\n",
    "def find_letter_capital_len_5up(str):\n",
    "    pattern = r'\\b[A-Z]\\w{4,}'\n",
    "    return re.findall(pattern,str)\n",
    "\n",
    "case1 = \"Hello world, How Are You Today?\"\n",
    "case2 = \"This Is a Test Sentence\"\n",
    "case3 = \"The Quick Brown Fox Jumps Over the Lazy dog\"\n",
    "\n",
    "print(find_letter_capital_len_5up(case1))\n",
    "print(find_letter_capital_len_5up(case2))\n",
    "print(find_letter_capital_len_5up(case3))"
   ]
  },
  {
   "cell_type": "markdown",
   "metadata": {},
   "source": [
    "#### 24. Tìm tất cả từ có độ dài chẵn, len lớn hơn 5 và chỉ chứa chữ cái sử dụng module `re`."
   ]
  },
  {
   "cell_type": "markdown",
   "metadata": {},
   "source": [
    "Input: \"This is a sample sentence for testing purposes.\"<br>\n",
    "Output: ['sample', 'sentence', 'purposes']\n",
    "\n",
    "Input: \"I Love OpenAI GPT-3.5!\"<br>\n",
    "Output: ['OpenAI']"
   ]
  },
  {
   "cell_type": "code",
   "execution_count": 11,
   "metadata": {},
   "outputs": [
    {
     "name": "stdout",
     "output_type": "stream",
     "text": [
      "['sample', 'sentence', 'purposes']\n",
      "['OpenAI']\n"
     ]
    }
   ],
   "source": [
    "import re\n",
    "\n",
    "def find_letter_len_even(str):\n",
    "    pattern = r'\\w{6,}'\n",
    "    words = re.findall(pattern,str)\n",
    "    result = [word for word in words if len(word) % 2 == 0]\n",
    "    return result\n",
    "    \n",
    "case1 = \"This is a sample sentence for testing purposes.\"\n",
    "case2 = \"I Love OpenAI GPT-3.5!\"\n",
    "\n",
    "print(find_letter_len_even(case1))\n",
    "print(find_letter_len_even(case2))"
   ]
  },
  {
   "cell_type": "markdown",
   "metadata": {},
   "source": [
    "#### (chưa làm được) 25. Tìm tất cả các từ có chứa chữ cái \"a\" hoặc \"e\" hoặc \"i\" hoặc \"o\" hoặc \"u\" ít nhất hai lần sử dụng module `re`."
   ]
  },
  {
   "cell_type": "markdown",
   "metadata": {},
   "source": [
    "Input: \"She sells seashells by the seashore\"<br>\n",
    "Output: ['seashells', 'seashore'] # e-2 lần, khổng phải a và e tính 2 lần\n",
    "\n",
    "Input: \"I enjoy eating bananas and pasta\"\n",
    "Output: ['bananas','pasta'] # a 3 lần, a 2 lần\n"
   ]
  },
  {
   "cell_type": "code",
   "execution_count": 27,
   "metadata": {},
   "outputs": [
    {
     "name": "stdout",
     "output_type": "stream",
     "text": [
      "She sells seashells by the seashore: ['e', 's', 's', 'y', 'e', 'e']\n",
      "I enjoy eating bananas and pasta: ['y', 'g', 's', 'd', 'a']\n"
     ]
    }
   ],
   "source": [
    "import re\n",
    "\n",
    "def find_letter_repeat_aeiou(str):\n",
    "    pattern = r'\\b\\w*(\\w){2,}\\w*'\n",
    "    return re.findall(pattern,str)\n",
    "\n",
    "case1 = \"She sells seashells by the seashore\"\n",
    "case2 = \"I enjoy eating bananas and pasta\"\n",
    "\n",
    "print(f'{case1}: {find_letter_repeat_aeiou(case1)}')\n",
    "print(f'{case2}: {find_letter_repeat_aeiou(case2)}')"
   ]
  },
  {
   "cell_type": "markdown",
   "metadata": {},
   "source": [
    "#### 26. Tìm tất cả các chuỗi con không chứa khoảng trắng và ký tự đặc biệt sử dụng module `re`."
   ]
  },
  {
   "cell_type": "markdown",
   "metadata": {},
   "source": [
    "Input: \"ThisIsA Valid Str!ng With@ut Spaces @r Special_Characters\"\n",
    "Output: ['ThisIsA', 'Valid', 'Spaces']"
   ]
  },
  {
   "cell_type": "code",
   "execution_count": 64,
   "metadata": {},
   "outputs": [
    {
     "name": "stdout",
     "output_type": "stream",
     "text": [
      "<re.Match object; span=(3, 4), match='!'>\n",
      "['ThisIsA', 'Valid', 'Special_Characters']\n"
     ]
    }
   ],
   "source": [
    "import re\n",
    "\n",
    "def find_str_no_space_special_char(str):\n",
    "    pattern = r'\\S+'\n",
    "    words = re.findall(pattern,str)\n",
    "    result = [word for word in words if re.search(r'[!@]',word) == None]\n",
    "    return result\n",
    "\n",
    "case1 = \"ThisIsA Valid Str!ng With@ut Spaces! @r Special_Characters\"\n",
    "\n",
    "print(find_str_no_space_special_char(case1))"
   ]
  },
  {
   "cell_type": "markdown",
   "metadata": {},
   "source": [
    "#### 27. Tìm tất cả các số nguyên dương trong một chuỗi sử dụng module `re`."
   ]
  },
  {
   "cell_type": "markdown",
   "metadata": {},
   "source": [
    "Input: \"The numbers are 10, -25, and 50.7\"<br>\n",
    "Output: ['10']"
   ]
  },
  {
   "cell_type": "code",
   "execution_count": 110,
   "metadata": {},
   "outputs": [
    {
     "name": "stdout",
     "output_type": "stream",
     "text": [
      "False\n",
      "The numbers are 10, -25, and 50.7, - 70: ['10']\n"
     ]
    }
   ],
   "source": [
    "import re\n",
    "\n",
    "def find_number_int(str):\n",
    "    pattern = r'-?(?:-\\s)?\\d+(?:\\.\\d+)?\\b' #r'-?(?:-\\s)?\\d+(?:[\\.,]\\d+)?'\n",
    "    matches = re.findall(pattern, str)\n",
    "    positive_integers = [match for match in matches  if re.search('[\\.\\s]',match) == None]\n",
    "    result = [inter for inter in positive_integers if int(inter)>0]\n",
    "    return result\n",
    "    \n",
    "case1 = \"The numbers are 10, -25, and 50.7, - 70\"\n",
    "\n",
    "print(f'{case1}: {find_number_int(case1)}')"
   ]
  },
  {
   "cell_type": "markdown",
   "metadata": {},
   "source": [
    "#### 28. Tìm tất cả các chuỗi con trong dạng mã màu HEX (ví dụ: #FF0000) sử dụng module `re`."
   ]
  },
  {
   "cell_type": "markdown",
   "metadata": {},
   "source": [
    "Input: \"The colors are #FF0000,  and #00FF00\"<br>\n",
    "Output: ['#FF0000', '#00FF00']\n",
    "\n",
    "Input: \"The logo uses #FFFFFF and #000000\" <br>\n",
    "Output: ['#FFFFFF', '#000000']\n",
    "\n",
    "Input: \"The background color is #000\"\n",
    "Output: []"
   ]
  },
  {
   "cell_type": "code",
   "execution_count": 66,
   "metadata": {},
   "outputs": [
    {
     "name": "stdout",
     "output_type": "stream",
     "text": [
      "The colors are #FF0000,  and #00FF00: ['#FF0000', '#00FF00']\n",
      "The logo uses #FFFFFF and #000000: ['#FFFFFF', '#000000']\n",
      "The background color is #000: []\n"
     ]
    }
   ],
   "source": [
    "import re\n",
    "\n",
    "def find_HEX(str):\n",
    "    pattern =r'[#]\\w{6}'\n",
    "    return re.findall(pattern,str)\n",
    "\n",
    "case1 = \"The colors are #FF0000,  and #00FF00\"\n",
    "case2 = \"The logo uses #FFFFFF and #000000\"\n",
    "case3 = \"The background color is #000\"\n",
    "\n",
    "print(f'{case1}: {find_HEX(case1)}')\n",
    "print(f'{case2}: {find_HEX(case2)}')\n",
    "print(f'{case3}: {find_HEX(case3)}')\n"
   ]
  },
  {
   "cell_type": "markdown",
   "metadata": {},
   "source": [
    "#### 29. Tìm tất cả các từ có chứa hai chữ cái giống nhau liền kề sử dụng module `re`."
   ]
  },
  {
   "cell_type": "markdown",
   "metadata": {},
   "source": [
    "Input: \"She sells seashells by the seashore\"<br>\n",
    "Output: ['sells','seashells']\n",
    "\n",
    "Input: \"Peter Piper picked a peck of pickled peppers\"<br>\n",
    "Output: ['Pepper', 'peppers']"
   ]
  },
  {
   "cell_type": "code",
   "execution_count": 115,
   "metadata": {},
   "outputs": [
    {
     "name": "stdout",
     "output_type": "stream",
     "text": [
      "She sells seashells by the seashore: ['sells', 'seashells']\n",
      "Peter Piper picked a peck of pickled peppers: ['peppers']\n"
     ]
    }
   ],
   "source": [
    "import re\n",
    "def find_letter_char_double(str):\n",
    "    pattern = r'\\w+'\n",
    "    words = re.findall(pattern,str)\n",
    "    result = []\n",
    "    for word in words:\n",
    "        if re.findall(r'(\\w)\\1',word):\n",
    "            result.append(word)\n",
    "    return result\n",
    "\n",
    "case1 = \"She sells seashells by the seashore\"\n",
    "case2 = \"Peter Piper picked a peck of pickled peppers\"\n",
    "\n",
    "print(f'{case1}: {find_letter_char_double(case1)}')\n",
    "print(f'{case2}: {find_letter_char_double(case2)}')\n"
   ]
  },
  {
   "cell_type": "markdown",
   "metadata": {},
   "source": [
    "#### 30. Tìm tất cả các chuỗi con là một số hạng trong biểu thức toán học (ví dụ: 2+3, 4*5) sử dụng module `re`."
   ]
  },
  {
   "cell_type": "markdown",
   "metadata": {},
   "source": [
    "Input: \"2 + 3 = 5\" <br>\n",
    "Output: ['2', '3', '5']\n",
    "\n",
    "Ví dụ 2:\n",
    "Input: \"4 * (-53) - 2 / 1\"\n",
    "Output: ['4', '-53', '- 2', '1']\n",
    "\n",
    "Ví dụ 3:\n",
    "Input: \"(2,000 + 3) * (7.5 - 4)\"\n",
    "Output: ['2,000', '3', '7.5', '- 4']"
   ]
  },
  {
   "cell_type": "code",
   "execution_count": 28,
   "metadata": {},
   "outputs": [
    {
     "name": "stdout",
     "output_type": "stream",
     "text": [
      "2 + 3 = 5: ['2', '3', '5']\n",
      "4 * (-53) - 2 / 1: ['4', '-53', '- 2', '1']\n",
      "(2,000 + 3) * (7.5 - 4): ['2,000', '3', '7.5', '- 4']\n"
     ]
    }
   ],
   "source": [
    "import re\n",
    "def find_number_into_expression(str):\n",
    "    pattern = r'-?(?:-\\s)?\\d+(?:[\\.,]\\d+)?'\n",
    "    return re.findall(pattern,str)\n",
    "\n",
    "case1 = \"2 + 3 = 5\"\n",
    "case2 = \"4 * (-53) - 2 / 1\"\n",
    "case3 = \"(2,000 + 3) * (7.5 - 4)\"\n",
    "print(f'{case1}: {find_number_into_expression(case1)}')\n",
    "print(f'{case2}: {find_number_into_expression(case2)}')\n",
    "print(f'{case3}: {find_number_into_expression(case3)}')"
   ]
  },
  {
   "cell_type": "code",
   "execution_count": 17,
   "metadata": {},
   "outputs": [],
   "source": [
    "import re\n",
    "text = \"0YK\"\n",
    "pattern = r'[0-9][A-Z|1-9][A-Z]'\n",
    "\n",
    "# chỉ được nhập 3 ký tự, in hoa hoặc in thường, hãy kiểm tra xem 3 ký tự nhập có match với yêu cầu đề bài\n",
    "def check(text):\n",
    "  \n",
    "  # check\n",
    "  result = [False, False, False]\n",
    "  if re.match(r'[0-9]', text[0]):\n",
    "    result[0] = True\n",
    "\n",
    "  if re.match(r'[A-Z|1-9]', text[1]):\n",
    "    result[1] = True\n",
    "\n",
    "  if re.match(r'[A-Z]', text[2]):\n",
    "    result[2] = True\n",
    "  \n",
    "  #thong bao\n",
    "  for i in range(0,len(result)):\n",
    "    if result[i] == False:\n",
    "      if i == 0:\n",
    "        print(f'sai vi tri {i+1}: phải là số 0-9')\n",
    "      elif i == 1:\n",
    "        print(f'sai vi tri {i+1}: phải là số 1-9 hoac chu IN HOA')\n",
    "      elif i == 2:\n",
    "        print(f'sai vi tri {i+1}: phải là chu IN HOA')\n",
    "\n",
    "text = input('Nhap 3 ky tu bat ky: ')\n",
    "check(text)\n",
    "  "
   ]
  },
  {
   "cell_type": "code",
   "execution_count": 21,
   "metadata": {},
   "outputs": [
    {
     "name": "stdout",
     "output_type": "stream",
     "text": [
      "<re.Match object; span=(0, 1), match='0'>\n",
      "None\n",
      "None\n"
     ]
    }
   ],
   "source": [
    "import re\n",
    "text = \"0YK\"\n",
    "\n",
    "pattern = r'[0-9][A-Z|1-9][A-Z]'\n",
    "for i in text:\n",
    "    find = re.match(i, text)\n",
    "    print(find)"
   ]
  }
 ],
 "metadata": {
  "kernelspec": {
   "display_name": "Python 3.9.2 64-bit",
   "language": "python",
   "name": "python3"
  },
  "language_info": {
   "codemirror_mode": {
    "name": "ipython",
    "version": 3
   },
   "file_extension": ".py",
   "mimetype": "text/x-python",
   "name": "python",
   "nbconvert_exporter": "python",
   "pygments_lexer": "ipython3",
   "version": "3.9.2"
  },
  "orig_nbformat": 4,
  "vscode": {
   "interpreter": {
    "hash": "916dbcbb3f70747c44a77c7bcd40155683ae19c65e1c03b4aa3499c5328201f1"
   }
  }
 },
 "nbformat": 4,
 "nbformat_minor": 2
}
